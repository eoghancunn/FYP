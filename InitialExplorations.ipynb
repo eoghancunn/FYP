{
 "cells": [
  {
   "cell_type": "code",
   "execution_count": 349,
   "metadata": {},
   "outputs": [],
   "source": [
    "import pandas as pd \n",
    "from sklearn.model_selection import train_test_split\n",
    "from sklearn.ensemble import RandomForestClassifier\n",
    "from sklearn.feature_extraction.text import TfidfVectorizer\n",
    "from sklearn.feature_extraction.text import CountVectorizer\n",
    "from sklearn import metrics\n",
    "import matplotlib.pyplot as plt\n",
    "import seaborn as sns"
   ]
  },
  {
   "cell_type": "code",
   "execution_count": 384,
   "metadata": {},
   "outputs": [
    {
     "data": {
      "text/html": [
       "<div>\n",
       "<style scoped>\n",
       "    .dataframe tbody tr th:only-of-type {\n",
       "        vertical-align: middle;\n",
       "    }\n",
       "\n",
       "    .dataframe tbody tr th {\n",
       "        vertical-align: top;\n",
       "    }\n",
       "\n",
       "    .dataframe thead th {\n",
       "        text-align: right;\n",
       "    }\n",
       "</style>\n",
       "<table border=\"1\" class=\"dataframe\">\n",
       "  <thead>\n",
       "    <tr style=\"text-align: right;\">\n",
       "      <th></th>\n",
       "      <th>beta</th>\n",
       "      <th>date</th>\n",
       "      <th>climber_id</th>\n",
       "      <th>route_info</th>\n",
       "      <th>comment</th>\n",
       "      <th>label</th>\n",
       "    </tr>\n",
       "  </thead>\n",
       "  <tbody>\n",
       "    <tr>\n",
       "      <th>0</th>\n",
       "      <td>1</td>\n",
       "      <td>20 Jul, 2019</td>\n",
       "      <td>204193</td>\n",
       "      <td>Dirty_Dick_VS_4b</td>\n",
       "      <td>Starts with nice protection then has one hell ...</td>\n",
       "      <td>0</td>\n",
       "    </tr>\n",
       "    <tr>\n",
       "      <th>1</th>\n",
       "      <td>1</td>\n",
       "      <td>22 Jul, 2005</td>\n",
       "      <td>30255</td>\n",
       "      <td>Side_Face_HVD_3c</td>\n",
       "      <td>Good practice for climbing at places like The ...</td>\n",
       "      <td>0</td>\n",
       "    </tr>\n",
       "    <tr>\n",
       "      <th>2</th>\n",
       "      <td>1</td>\n",
       "      <td>2 Jun, 2019</td>\n",
       "      <td>748</td>\n",
       "      <td>Conchubair_E2_5c</td>\n",
       "      <td>Steep grass and heather approaching the base, ...</td>\n",
       "      <td>0</td>\n",
       "    </tr>\n",
       "    <tr>\n",
       "      <th>3</th>\n",
       "      <td>1</td>\n",
       "      <td>15 Mar, 2007</td>\n",
       "      <td>8727</td>\n",
       "      <td>The_Sentinel_E2_5b</td>\n",
       "      <td>Good mid-grade E2 5b with plenty of good cams ...</td>\n",
       "      <td>1</td>\n",
       "    </tr>\n",
       "    <tr>\n",
       "      <th>4</th>\n",
       "      <td>1</td>\n",
       "      <td>1 Aug, 2002</td>\n",
       "      <td>20</td>\n",
       "      <td>Obsession_Fatale_E8_6c</td>\n",
       "      <td>Oli! Do tell more?....!</td>\n",
       "      <td>0</td>\n",
       "    </tr>\n",
       "    <tr>\n",
       "      <th>5</th>\n",
       "      <td>1</td>\n",
       "      <td>4 May, 2019</td>\n",
       "      <td>234845</td>\n",
       "      <td>The_Russian_HVS_5a</td>\n",
       "      <td>Some fine polishing. Hard to smear too.</td>\n",
       "      <td>0</td>\n",
       "    </tr>\n",
       "    <tr>\n",
       "      <th>6</th>\n",
       "      <td>1</td>\n",
       "      <td>20 Feb, 2002</td>\n",
       "      <td>14967</td>\n",
       "      <td>Obsession_Fatale_E8_6c</td>\n",
       "      <td>On a cold dry day, shocking straight forward.....</td>\n",
       "      <td>0</td>\n",
       "    </tr>\n",
       "    <tr>\n",
       "      <th>7</th>\n",
       "      <td>1</td>\n",
       "      <td>16 May, 2005</td>\n",
       "      <td>2637</td>\n",
       "      <td>Slab_and_Crack_D</td>\n",
       "      <td>Led this earlier today, good fun - bet it's ho...</td>\n",
       "      <td>0</td>\n",
       "    </tr>\n",
       "    <tr>\n",
       "      <th>8</th>\n",
       "      <td>1</td>\n",
       "      <td>4 Apr, 2007</td>\n",
       "      <td>90264</td>\n",
       "      <td>Limbo_S_4a</td>\n",
       "      <td>I agree, a good warm up, or try the thinner fi...</td>\n",
       "      <td>0</td>\n",
       "    </tr>\n",
       "    <tr>\n",
       "      <th>9</th>\n",
       "      <td>1</td>\n",
       "      <td>2 Sep, 2019</td>\n",
       "      <td>104958</td>\n",
       "      <td>The_Asp_E3_6a</td>\n",
       "      <td>The move to the pocket is a bit scary but afte...</td>\n",
       "      <td>0</td>\n",
       "    </tr>\n",
       "  </tbody>\n",
       "</table>\n",
       "</div>"
      ],
      "text/plain": [
       "   beta          date  climber_id              route_info  \\\n",
       "0     1  20 Jul, 2019      204193        Dirty_Dick_VS_4b   \n",
       "1     1  22 Jul, 2005       30255        Side_Face_HVD_3c   \n",
       "2     1   2 Jun, 2019         748        Conchubair_E2_5c   \n",
       "3     1  15 Mar, 2007        8727      The_Sentinel_E2_5b   \n",
       "4     1   1 Aug, 2002          20  Obsession_Fatale_E8_6c   \n",
       "5     1   4 May, 2019      234845      The_Russian_HVS_5a   \n",
       "6     1  20 Feb, 2002       14967  Obsession_Fatale_E8_6c   \n",
       "7     1  16 May, 2005        2637        Slab_and_Crack_D   \n",
       "8     1   4 Apr, 2007       90264              Limbo_S_4a   \n",
       "9     1   2 Sep, 2019      104958           The_Asp_E3_6a   \n",
       "\n",
       "                                             comment  label  \n",
       "0  Starts with nice protection then has one hell ...      0  \n",
       "1  Good practice for climbing at places like The ...      0  \n",
       "2  Steep grass and heather approaching the base, ...      0  \n",
       "3  Good mid-grade E2 5b with plenty of good cams ...      1  \n",
       "4                            Oli! Do tell more?....!      0  \n",
       "5            Some fine polishing. Hard to smear too.      0  \n",
       "6  On a cold dry day, shocking straight forward.....      0  \n",
       "7  Led this earlier today, good fun - bet it's ho...      0  \n",
       "8  I agree, a good warm up, or try the thinner fi...      0  \n",
       "9  The move to the pocket is a bit scary but afte...      0  "
      ]
     },
     "execution_count": 384,
     "metadata": {},
     "output_type": "execute_result"
    }
   ],
   "source": [
    "df = pd.read_csv(\"samples.csv\").drop(\"Unnamed: 0\", axis = 1)\n",
    "df.head(10)"
   ]
  },
  {
   "cell_type": "code",
   "execution_count": 351,
   "metadata": {},
   "outputs": [],
   "source": [
    "df['label'] = df['label'].map(lambda x: str(x)[0] if len(str(x))>1 else str(x))"
   ]
  },
  {
   "cell_type": "code",
   "execution_count": 352,
   "metadata": {},
   "outputs": [],
   "source": [
    "X_train, X_test, y_train, y_test = train_test_split(\n",
    "        df['comment'], df['label'], random_state = 1,\n",
    "        test_size = 0.25, stratify = df['label'])"
   ]
  },
  {
   "cell_type": "code",
   "execution_count": 353,
   "metadata": {},
   "outputs": [],
   "source": [
    "df['comment_len'] = df['comment'].map(len)"
   ]
  },
  {
   "cell_type": "code",
   "execution_count": 354,
   "metadata": {},
   "outputs": [
    {
     "data": {
      "image/png": "[encoded data removed]",
      "text/plain": [
       "<Figure size 432x288 with 1 Axes>"
      ]
     },
     "metadata": {
      "needs_background": "light"
     },
     "output_type": "display_data"
    }
   ],
   "source": [
    "sns.distplot(df[df['label'] == '1']['comment_len'],color='orange')\n",
    "sns.distplot(df[df['label'] == '0']['comment_len'],color='skyblue')\n",
    "plt.legend(['beta', 'no_beta'])\n",
    "plt.show()"
   ]
  },
  {
   "cell_type": "code",
   "execution_count": 376,
   "metadata": {},
   "outputs": [
    {
     "name": "stdout",
     "output_type": "stream",
     "text": [
      "              precision    recall  f1-score   support\n",
      "\n",
      "     no_beta       0.79      0.90      0.84        21\n",
      "        beta       0.83      0.67      0.74        15\n",
      "\n",
      "    accuracy                           0.81        36\n",
      "   macro avg       0.81      0.79      0.79        36\n",
      "weighted avg       0.81      0.81      0.80        36\n",
      "\n"
     ]
    }
   ],
   "source": [
    "asm_vect = TfidfVectorizer(\n",
    "    ngram_range = (1,4), min_df = 5, stop_words = 'english')\n",
    "\n",
    "X_train_vect = asm_vect.fit_transform(X_train)\n",
    "X_test_vect = asm_vect.transform(X_test)\n",
    "\n",
    "clf = RandomForestClassifier(n_estimators = 50)\n",
    "clf.fit(X_train_vect.toarray(), y_train)\n",
    "\n",
    "pred = clf.predict(X_test_vect.toarray())\n",
    "print(metrics.classification_report(y_test, pred, target_names = ['no_beta', 'beta']))"
   ]
  },
  {
   "cell_type": "code",
   "execution_count": 356,
   "metadata": {},
   "outputs": [],
   "source": [
    "vect = CountVectorizer(ngram_range = (2,3), stop_words = 'english')\n",
    "vect = vect.fit(df.comment.apply(\"\".join))\n",
    "beta = vect.transform(df[df['label']=='1'].comment)\n",
    "no_beta = vect.transform(df[df['label']=='0'].comment)"
   ]
  },
  {
   "cell_type": "code",
   "execution_count": 357,
   "metadata": {},
   "outputs": [],
   "source": [
    "beta_grams = beta.sum(axis = 0)\n",
    "no_beta_grams = no_beta.sum(axis = 0)\n",
    "beta_grams_freq = [(gram, beta_grams[0, idx]) for gram, idx in vect.vocabulary_.items()]\n",
    "no_beta_grams_freq = [(gram, no_beta_grams[0, idx]) for gram, idx in vect.vocabulary_.items()]\n",
    "beta_gf = pd.DataFrame(list(sorted(beta_grams_freq, key = lambda x: x[1], reverse=True)),columns=['terms','beta'])\n",
    "no_beta_gf = pd.DataFrame(list(sorted(no_beta_grams_freq, key = lambda x: x[1], reverse=True)),columns=['terms','no_beta'])"
   ]
  },
  {
   "cell_type": "code",
   "execution_count": 358,
   "metadata": {},
   "outputs": [],
   "source": [
    "beta_gf_df = beta_gf.set_index(\"terms\")\n",
    "no_beta_gf_df = no_beta_gf.set_index(\"terms\")\n",
    "comment_gram_df = pd.concat([no_beta_gf_df,beta_gf_df],axis = 1, sort = False)"
   ]
  },
  {
   "cell_type": "code",
   "execution_count": 359,
   "metadata": {},
   "outputs": [],
   "source": [
    "comment_gram_df['dif'] = comment_gram_df['beta'] - comment_gram_df['no_beta']"
   ]
  },
  {
   "cell_type": "code",
   "execution_count": 360,
   "metadata": {},
   "outputs": [
    {
     "data": {
      "image/png": "[encoded data removed]",
      "text/plain": [
       "<Figure size 864x360 with 2 Axes>"
      ]
     },
     "metadata": {
      "needs_background": "light"
     },
     "output_type": "display_data"
    }
   ],
   "source": [
    "f, axarr = plt.subplots(1, 2,figsize=(12, 5))\n",
    "comment_gram_df.sort_values(by ='dif', ascending = False)[['no_beta','beta']][:20].plot.barh(ax=axarr[0])\n",
    "comment_gram_df.sort_values(by ='dif', ascending = False)[['no_beta','beta']][::-1][:20].plot.barh(ax=axarr[1])\n",
    "plt.subplots_adjust(wspace = 0.5)\n",
    "plt.show()"
   ]
  },
  {
   "cell_type": "code",
   "execution_count": 381,
   "metadata": {},
   "outputs": [],
   "source": [
    "beta = [\"theres a good green cam at the crux, you can back up the pegs below the roof with a micro cam\",\n",
    "        \"match the block, put a cam in on the left and build your feet. put your foot in the bore hole\",\n",
    "        \"don't put a gold cam in the hand jam\"]\n",
    "\n",
    "not_beta = [\"really good route, beautiful\", \n",
    "            \"great day out with my Bill\", \n",
    "            \"absolutely awful, stay well away from this route, its no fun. \"]\n"
   ]
  },
  {
   "cell_type": "code",
   "execution_count": 382,
   "metadata": {},
   "outputs": [
    {
     "data": {
      "text/plain": [
       "array(['1', '1', '1'], dtype=object)"
      ]
     },
     "execution_count": 382,
     "metadata": {},
     "output_type": "execute_result"
    }
   ],
   "source": [
    "clf.predict(asm_vect.transform(beta))"
   ]
  },
  {
   "cell_type": "code",
   "execution_count": 383,
   "metadata": {},
   "outputs": [
    {
     "data": {
      "text/plain": [
       "array(['0', '0', '0'], dtype=object)"
      ]
     },
     "execution_count": 383,
     "metadata": {},
     "output_type": "execute_result"
    }
   ],
   "source": [
    "clf.predict(asm_vect.transform(not_beta))"
   ]
  }
 ],
 "metadata": {
  "kernelspec": {
   "display_name": "Python (datascinp)",
   "language": "python",
   "name": "datascinp"
  },
  "language_info": {
   "codemirror_mode": {
    "name": "ipython",
    "version": 3
   },
   "file_extension": ".py",
   "mimetype": "text/x-python",
   "name": "python",
   "nbconvert_exporter": "python",
   "pygments_lexer": "ipython3",
   "version": "3.7.3"
  }
 },
 "nbformat": 4,
 "nbformat_minor": 2
}
